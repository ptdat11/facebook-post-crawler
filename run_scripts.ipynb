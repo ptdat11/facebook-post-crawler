{
 "cells": [
  {
   "cell_type": "markdown",
   "metadata": {},
   "source": [
    "### **Chú ý:** Thiết lập những cài đặt Facebook sau để tránh bị lỗi\n",
    "\n",
    "1. Tắt chức năng tự động phát video.\n",
    "2. Tắt chức năng tự động dịch từ tiếng Việt."
   ]
  },
  {
   "cell_type": "code",
   "execution_count": null,
   "metadata": {},
   "outputs": [
    {
     "name": "stdout",
     "output_type": "stream",
     "text": [
      "[\u001b[32;20mPage Crawler\u001b[0m][\u001b[34;20mINFO\u001b[0m][\u001b[35;20m06-04 17:25:43\u001b[0m]: Initializing...\n",
      "[\u001b[32;20mPage Crawler\u001b[0m][\u001b[34;20mINFO\u001b[0m][\u001b[35;20m06-04 17:25:44\u001b[0m]: Driver started\n",
      "[\u001b[32;20mPage Crawler\u001b[0m][\u001b[34;20mINFO\u001b[0m][\u001b[35;20m06-04 17:25:44\u001b[0m]: JavaScript VM has 6.91GB of memory space (extra 2.91GB).\n",
      "[\u001b[32;20mPage Crawler\u001b[0m][\u001b[34;20mINFO\u001b[0m][\u001b[35;20m06-04 17:25:44\u001b[0m]: Ensuring user logging in\n",
      "[\u001b[32;20mPage Crawler\u001b[0m][\u001b[34;20mINFO\u001b[0m][\u001b[35;20m06-04 17:25:44\u001b[0m]: Found user's credentials cached as cookies\n",
      "[\u001b[32;20mPage Crawler\u001b[0m][\u001b[34;20mINFO\u001b[0m][\u001b[35;20m06-04 17:25:45\u001b[0m]: Saved/Refreshed cookies\n",
      "[\u001b[32;20mPage Crawler\u001b[0m][\u001b[34;20mINFO\u001b[0m][\u001b[35;20m06-04 17:25:45\u001b[0m]: Matched as URL for \u001b[;1mnavigation\u001b[0m: \u001b[37mhttps://www.facebook.com/MSBVietnam\u001b[0m\n",
      "[\u001b[32;20mPage Crawler\u001b[0m][\u001b[34;20mINFO\u001b[0m][\u001b[35;20m06-04 17:25:49\u001b[0m]: Enqueuing 0 new navigation URLs\n",
      "[\u001b[32;20mPage Crawler\u001b[0m][\u001b[34;20mINFO\u001b[0m][\u001b[35;20m06-04 17:25:49\u001b[0m]: Selectively enqueuing 0 new parsing URLs\n",
      "[\u001b[32;20mPage Crawler\u001b[0m][\u001b[34;20mINFO\u001b[0m][\u001b[35;20m06-04 17:25:49\u001b[0m]: Matched as URL for \u001b[;1mparsing\u001b[0m: \u001b[37mhttps://www.facebook.com/MSBVietnam\u001b[0m\n",
      "[\u001b[32;20mPage Crawler\u001b[0m][\u001b[34;20mINFO\u001b[0m][\u001b[35;20m06-04 17:25:51\u001b[0m]: Opened new tab to \u001b[37mhttps://www.facebook.com/MSBVietnam\u001b[0m\n",
      "[\u001b[32;20mPage Crawler\u001b[0m][\u001b[34;20mINFO\u001b[0m][\u001b[35;20m06-04 17:25:53\u001b[0m]: Found post URLs previously saved\n",
      "[\u001b[32;20mPage Crawler\u001b[0m][\u001b[34;20mINFO\u001b[0m][\u001b[35;20m06-04 17:25:53\u001b[0m]: Begin to collect comments from 298 posts.\n",
      "Collecting Comments:   8%|█▍               | 25/298 [19:47<5:04:10, 66.85s/post][\u001b[32;20mPage Crawler\u001b[0m][\u001b[31;20mERROR\u001b[0m][\u001b[35;20m06-04 17:45:55\u001b[0m]: Restore \u001b[37mhttps://www.facebook.com/MSBVietnam\u001b[0m to queue due to error: \n",
      "\u001b[31;20mStaleElementReferenceException\u001b[0m: Message: stale element reference: stale element not found in the current frame\n",
      "  (Session info: chrome=135.0.7049.52)\n",
      "Stacktrace:\n",
      "#0 0x5b9fdfd3946a <unknown>\n",
      "#1 0x5b9fdf7f2ed0 <unknown>\n",
      "#2 0x5b9fdf7f9a1e <unknown>\n",
      "#3 0x5b9fdf7fc268 <unknown>\n",
      "#4 0x5b9fdf7fc2f3 <unknown>\n",
      "#5 0x5b9fdf844402 <unknown>\n",
      "#6 0x5b9fdf844b61 <unknown>\n",
      "#7 0x5b9fdf838446 <unknown>\n",
      "#8 0x5b9fdf86a88d <unknown>\n",
      "#9 0x5b9fdf83833a <unknown>\n",
      "#10 0x5b9fdf86aa2e <unknown>\n",
      "#11 0x5b9fdf890ceb <unknown>\n",
      "#12 0x5b9fdf86a633 <unknown>\n",
      "#13 0x5b9fdf8361be <unknown>\n",
      "#14 0x5b9fdf837981 <unknown>\n",
      "#15 0x5b9fdfcff86b <unknown>\n",
      "#16 0x5b9fdfd0373c <unknown>\n",
      "#17 0x5b9fdfce6f12 <unknown>\n",
      "#18 0x5b9fdfd042b4 <unknown>\n",
      "#19 0x5b9fdfccb0af <unknown>\n",
      "#20 0x5b9fdfd27ad8 <unknown>\n",
      "#21 0x5b9fdfd27cb6 <unknown>\n",
      "#22 0x5b9fdfd382e6 <unknown>\n",
      "#23 0x737b7169caa4 <unknown>\n",
      "#24 0x737b71729c3c <unknown>\n",
      "\n",
      "Traceback (most recent call last):\n",
      "  File \"/home/ptdat/Desktop/facebook-crawler/crawlers/base_crawler.py\", line 305, in start\n",
      "    self._handle_parse_url(url)\n",
      "  File \"/home/ptdat/Desktop/facebook-crawler/crawlers/base_crawler.py\", line 364, in _handle_parse_url\n",
      "    for data in self.parse():\n",
      "  File \"/home/ptdat/Desktop/facebook-crawler/crawlers/bank_crawler/crawler.py\", line 237, in parse\n",
      "    self.collect_comments_step(post_urls)\n",
      "  File \"/home/ptdat/Desktop/facebook-crawler/crawlers/bank_crawler/crawler.py\", line 357, in collect_comments_step\n",
      "    comments = self.get_comments()\n",
      "               ^^^^^^^^^^^^^^^^^^^\n",
      "  File \"/home/ptdat/Desktop/facebook-crawler/crawlers/bank_crawler/crawler.py\", line 496, in get_comments\n",
      "    while not self.load_all_lvl1_cmts():\n",
      "              ^^^^^^^^^^^^^^^^^^^^^^^^^\n",
      "  File \"/home/ptdat/Desktop/facebook-crawler/crawlers/bank_crawler/crawler.py\", line 526, in load_all_lvl1_cmts\n",
      "    comments_section = last_comment.find_element(By.XPATH, \"./../../../..\")\n",
      "                       ^^^^^^^^^^^^^^^^^^^^^^^^^^^^^^^^^^^^^^^^^^^^^^^^^^^^\n",
      "  File \"/home/ptdat/Desktop/venv/lib/python3.12/site-packages/selenium/webdriver/remote/webelement.py\", line 735, in find_element\n",
      "    return self._execute(Command.FIND_CHILD_ELEMENT,\n",
      "           ^^^^^^^^^^^^^^^^^^^^^^^^^^^^^^^^^^^^^^^^^\n",
      "  File \"/home/ptdat/Desktop/venv/lib/python3.12/site-packages/selenium/webdriver/remote/webelement.py\", line 710, in _execute\n",
      "    return self._parent.execute(command, params)\n",
      "           ^^^^^^^^^^^^^^^^^^^^^^^^^^^^^^^^^^^^^\n",
      "  File \"/home/ptdat/Desktop/venv/lib/python3.12/site-packages/selenium/webdriver/remote/webdriver.py\", line 424, in execute\n",
      "    self.error_handler.check_response(response)\n",
      "  File \"/home/ptdat/Desktop/venv/lib/python3.12/site-packages/selenium/webdriver/remote/errorhandler.py\", line 247, in check_response\n",
      "    raise exception_class(message, screen, stacktrace)\n",
      "selenium.common.exceptions.StaleElementReferenceException: Message: stale element reference: stale element not found in the current frame\n",
      "  (Session info: chrome=135.0.7049.52)\n",
      "Stacktrace:\n",
      "#0 0x5b9fdfd3946a <unknown>\n",
      "#1 0x5b9fdf7f2ed0 <unknown>\n",
      "#2 0x5b9fdf7f9a1e <unknown>\n",
      "#3 0x5b9fdf7fc268 <unknown>\n",
      "#4 0x5b9fdf7fc2f3 <unknown>\n",
      "#5 0x5b9fdf844402 <unknown>\n",
      "#6 0x5b9fdf844b61 <unknown>\n",
      "#7 0x5b9fdf838446 <unknown>\n",
      "#8 0x5b9fdf86a88d <unknown>\n",
      "#9 0x5b9fdf83833a <unknown>\n",
      "#10 0x5b9fdf86aa2e <unknown>\n",
      "#11 0x5b9fdf890ceb <unknown>\n",
      "#12 0x5b9fdf86a633 <unknown>\n",
      "#13 0x5b9fdf8361be <unknown>\n",
      "#14 0x5b9fdf837981 <unknown>\n",
      "#15 0x5b9fdfcff86b <unknown>\n",
      "#16 0x5b9fdfd0373c <unknown>\n",
      "#17 0x5b9fdfce6f12 <unknown>\n",
      "#18 0x5b9fdfd042b4 <unknown>\n",
      "#19 0x5b9fdfccb0af <unknown>\n",
      "#20 0x5b9fdfd27ad8 <unknown>\n",
      "#21 0x5b9fdfd27cb6 <unknown>\n",
      "#22 0x5b9fdfd382e6 <unknown>\n",
      "#23 0x737b7169caa4 <unknown>\n",
      "#24 0x737b71729c3c <unknown>\n",
      "\n",
      "\n",
      "[\u001b[32;20mPage Crawler\u001b[0m][\u001b[33;20mWARNING\u001b[0m][\u001b[35;20m06-04 17:45:55\u001b[0m]: Attempting \u001b[;1m1st\u001b[0m retrial...\n",
      "[\u001b[32;20mPage Crawler\u001b[0m][\u001b[31;20mERROR\u001b[0m][\u001b[35;20m06-04 17:46:06\u001b[0m]: Closing driver due to an error occured...\n",
      "Collecting Comments:   8%|█▍               | 25/298 [20:13<3:40:50, 48.54s/post]\n"
     ]
    }
   ],
   "source": [
    "!python main.py \\\n",
    "    --chromedriver=/home/ptdat/Downloads/chromedriver-linux64/chromedriver \\\n",
    "    --crawler=page_crawler \\\n",
    "    --user=user1 \\\n",
    "    --crawler-dir=./data/ \\\n",
    "    --sleep-weibull-lambda=10 \\\n",
    "    --max-loading-wait=90 \\\n",
    "    --cookies-dir=./cookies/ \\\n",
    "    --secrets-json=./secrets.json \\\n",
    "    --error-screenshot-dir=./error-screenshots/ \\\n",
    "    --max-error-trials=0 \\\n",
    "\t--additional-js-heap=2\n",
    "    # --headless # To run in background"
   ]
  },
  {
   "cell_type": "markdown",
   "metadata": {},
   "source": [
    "\n",
    "### Trong trường hợp Facebook yêu cầu đăng nhập lại\n",
    "\n",
    "Chạy cell code dưới đây, một cửa sổ Chrome sẽ hiện ra. Hãy đăng nhập Facebook bằng cửa sổ Chrome này."
   ]
  },
  {
   "cell_type": "code",
   "execution_count": 4,
   "metadata": {},
   "outputs": [],
   "source": [
    "from selenium import webdriver\n",
    "from selenium.webdriver.chrome.service import Service\n",
    "from utils.cookies import Cookies\n",
    "\n",
    "driver_service = Service(\"/home/ptdat/Downloads/chromedriver-linux64/chromedriver\")\n",
    "driver_options = webdriver.ChromeOptions()\n",
    "# driver_options.add_argument(\"--blink-settings=imagesEnabled=false\")\n",
    "driver_options.add_argument(\"--disable-notifications\")\n",
    "driver_options.add_argument(\"disable-infobars\")\n",
    "driver_options.add_argument(\"--js-flags=--expose-gc\")\n",
    "driver_options.add_argument('--js-flags=\"--max_old_space_size=512 --max_semi_space_size=1397\"')\n",
    "# driver_options.add_argument(\"--incognito\")\n",
    "cookies = Cookies(\"user1\")\n",
    "\n",
    "chrome = webdriver.Chrome(service=driver_service, options=driver_options)\n",
    "chrome.get(\"https://facebook.com\")\n",
    "for cookie in cookies.load():\n",
    "    chrome.add_cookie(cookie)"
   ]
  },
  {
   "cell_type": "markdown",
   "metadata": {},
   "source": [
    "Sau khi hoàn thành đăng nhập (truy cập được news feed của tài khoản Facebook). Hãy chạy cell dưới đây để lưu cookies và giữ phiên đăng nhập cho những lần sau."
   ]
  },
  {
   "cell_type": "code",
   "execution_count": 5,
   "metadata": {},
   "outputs": [],
   "source": [
    "cookies.save(chrome.get_cookies())"
   ]
  },
  {
   "cell_type": "markdown",
   "metadata": {},
   "source": [
    "Tại bước này có thể tắt cửa sổ Chrome đi được rùi."
   ]
  }
 ],
 "metadata": {
  "kernelspec": {
   "display_name": "venv",
   "language": "python",
   "name": "python3"
  },
  "language_info": {
   "codemirror_mode": {
    "name": "ipython",
    "version": 3
   },
   "file_extension": ".py",
   "mimetype": "text/x-python",
   "name": "python",
   "nbconvert_exporter": "python",
   "pygments_lexer": "ipython3",
   "version": "3.12.3"
  }
 },
 "nbformat": 4,
 "nbformat_minor": 2
}
