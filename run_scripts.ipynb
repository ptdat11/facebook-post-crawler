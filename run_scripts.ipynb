{
 "cells": [
  {
   "cell_type": "markdown",
   "metadata": {},
   "source": [
    "### **Chú ý:** Thiết lập những cài đặt Facebook sau để tránh bị lỗi\n",
    "\n",
    "1. Tắt chức năng tự động phát video.\n",
    "2. Tắt chức năng tự động dịch từ tiếng Việt."
   ]
  },
  {
   "cell_type": "code",
   "execution_count": 4,
   "metadata": {},
   "outputs": [
    {
     "name": "stdout",
     "output_type": "stream",
     "text": [
      "[\u001b[32;20mPage Crawler\u001b[0m][\u001b[34;20mINFO\u001b[0m][\u001b[35;20m22-03 14:40:17\u001b[0m]: Initializing...\n",
      "[\u001b[32;20mPage Crawler\u001b[0m][\u001b[34;20mINFO\u001b[0m][\u001b[35;20m22-03 14:40:18\u001b[0m]: Driver started\n",
      "[\u001b[32;20mPage Crawler\u001b[0m][\u001b[34;20mINFO\u001b[0m][\u001b[35;20m22-03 14:40:18\u001b[0m]: Ensuring user logging in\n",
      "[\u001b[32;20mPage Crawler\u001b[0m][\u001b[34;20mINFO\u001b[0m][\u001b[35;20m22-03 14:40:18\u001b[0m]: Found user's credentials cached as cookies\n",
      "[\u001b[32;20mPage Crawler\u001b[0m][\u001b[34;20mINFO\u001b[0m][\u001b[35;20m22-03 14:40:20\u001b[0m]: Saved/Refreshed cookies\n",
      "[\u001b[32;20mPage Crawler\u001b[0m][\u001b[34;20mINFO\u001b[0m][\u001b[35;20m22-03 14:40:20\u001b[0m]: Matched as URL for \u001b[;1mnavigation\u001b[0m: \u001b[37mhttps://www.facebook.com/ilovevcb\u001b[0m\n",
      "[\u001b[32;20mPage Crawler\u001b[0m][\u001b[34;20mINFO\u001b[0m][\u001b[35;20m22-03 14:40:24\u001b[0m]: Enqueuing 0 new navigation URLs\n",
      "[\u001b[32;20mPage Crawler\u001b[0m][\u001b[34;20mINFO\u001b[0m][\u001b[35;20m22-03 14:40:24\u001b[0m]: Selectively enqueuing 0 new parsing URLs\n",
      "[\u001b[32;20mPage Crawler\u001b[0m][\u001b[34;20mINFO\u001b[0m][\u001b[35;20m22-03 14:40:24\u001b[0m]: Matched as URL for \u001b[;1mparsing\u001b[0m: \u001b[37mhttps://www.facebook.com/ilovevcb\u001b[0m\n",
      "[\u001b[32;20mPage Crawler\u001b[0m][\u001b[34;20mINFO\u001b[0m][\u001b[35;20m22-03 14:40:30\u001b[0m]: Opened new tab to \u001b[37mhttps://www.facebook.com/ilovevcb\u001b[0m\n",
      "RAM Usage (GB):  32%|███▏      | 4.98/15.33 [00:47<01:39,  9.62s/it, Scraped: 3]Traceback (most recent call last):\n",
      "  File \"/home/ptdat/Desktop/facebook-crawler/crawlers/base_crawler.py\", line 278, in start\n",
      "    self._handle_parse_url(url)\n",
      "  File \"/home/ptdat/Desktop/facebook-crawler/crawlers/base_crawler.py\", line 337, in _handle_parse_url\n",
      "    for data in self.parse():\n",
      "  File \"/home/ptdat/Desktop/facebook-crawler/crawlers/page_crawler/crawler.py\", line 199, in parse\n",
      "    self.sleep()\n",
      "  File \"/home/ptdat/Desktop/facebook-crawler/crawlers/base_crawler.py\", line 147, in sleep\n",
      "    time.sleep(sleep_second)\n",
      "KeyboardInterrupt\n",
      "\n",
      "During handling of the above exception, another exception occurred:\n",
      "\n",
      "Traceback (most recent call last):\n",
      "  File \"/home/ptdat/Desktop/venv/lib/python3.12/site-packages/urllib3/connection.py\", line 174, in _new_conn\n",
      "    conn = connection.create_connection(\n",
      "           ^^^^^^^^^^^^^^^^^^^^^^^^^^^^^\n",
      "  File \"/home/ptdat/Desktop/venv/lib/python3.12/site-packages/urllib3/util/connection.py\", line 95, in create_connection\n",
      "    raise err\n",
      "  File \"/home/ptdat/Desktop/venv/lib/python3.12/site-packages/urllib3/util/connection.py\", line 85, in create_connection\n",
      "    sock.connect(sa)\n",
      "ConnectionRefusedError: [Errno 111] Connection refused\n",
      "\n",
      "During handling of the above exception, another exception occurred:\n",
      "\n",
      "Traceback (most recent call last):\n",
      "  File \"/home/ptdat/Desktop/venv/lib/python3.12/site-packages/urllib3/connectionpool.py\", line 715, in urlopen\n",
      "    httplib_response = self._make_request(\n",
      "                       ^^^^^^^^^^^^^^^^^^^\n",
      "  File \"/home/ptdat/Desktop/venv/lib/python3.12/site-packages/urllib3/connectionpool.py\", line 416, in _make_request\n",
      "    conn.request(method, url, **httplib_request_kw)\n",
      "  File \"/home/ptdat/Desktop/venv/lib/python3.12/site-packages/urllib3/connection.py\", line 244, in request\n",
      "    super(HTTPConnection, self).request(method, url, body=body, headers=headers)\n",
      "  File \"/usr/lib/python3.12/http/client.py\", line 1336, in request\n",
      "    self._send_request(method, url, body, headers, encode_chunked)\n",
      "  File \"/usr/lib/python3.12/http/client.py\", line 1382, in _send_request\n",
      "    self.endheaders(body, encode_chunked=encode_chunked)\n",
      "  File \"/usr/lib/python3.12/http/client.py\", line 1331, in endheaders\n",
      "    self._send_output(message_body, encode_chunked=encode_chunked)\n",
      "  File \"/usr/lib/python3.12/http/client.py\", line 1091, in _send_output\n",
      "    self.send(msg)\n",
      "  File \"/usr/lib/python3.12/http/client.py\", line 1035, in send\n",
      "    self.connect()\n",
      "  File \"/home/ptdat/Desktop/venv/lib/python3.12/site-packages/urllib3/connection.py\", line 205, in connect\n",
      "    conn = self._new_conn()\n",
      "           ^^^^^^^^^^^^^^^^\n",
      "  File \"/home/ptdat/Desktop/venv/lib/python3.12/site-packages/urllib3/connection.py\", line 186, in _new_conn\n",
      "    raise NewConnectionError(\n",
      "urllib3.exceptions.NewConnectionError: <urllib3.connection.HTTPConnection object at 0x76dea59a6690>: Failed to establish a new connection: [Errno 111] Connection refused\n",
      "\n",
      "During handling of the above exception, another exception occurred:\n",
      "\n",
      "Traceback (most recent call last):\n",
      "  File \"/home/ptdat/Desktop/facebook-crawler/main.py\", line 106, in <module>\n",
      "    crawler.start()\n",
      "  File \"/home/ptdat/Desktop/facebook-crawler/crawlers/page_crawler/crawler.py\", line 321, in start\n",
      "    super().start(start_url=f\"https://www.facebook.com/{self.page_id}\")\n",
      "  File \"/home/ptdat/Desktop/facebook-crawler/crawlers/base_crawler.py\", line 287, in start\n",
      "    self.chrome.save_screenshot(\n",
      "  File \"/home/ptdat/Desktop/venv/lib/python3.12/site-packages/selenium/webdriver/remote/webdriver.py\", line 1342, in save_screenshot\n",
      "    return self.get_screenshot_as_file(filename)\n",
      "           ^^^^^^^^^^^^^^^^^^^^^^^^^^^^^^^^^^^^^\n",
      "  File \"/home/ptdat/Desktop/venv/lib/python3.12/site-packages/selenium/webdriver/remote/webdriver.py\", line 1317, in get_screenshot_as_file\n",
      "    png = self.get_screenshot_as_png()\n",
      "          ^^^^^^^^^^^^^^^^^^^^^^^^^^^^\n",
      "  File \"/home/ptdat/Desktop/venv/lib/python3.12/site-packages/selenium/webdriver/remote/webdriver.py\", line 1353, in get_screenshot_as_png\n",
      "    return b64decode(self.get_screenshot_as_base64().encode('ascii'))\n",
      "                     ^^^^^^^^^^^^^^^^^^^^^^^^^^^^^^^\n",
      "  File \"/home/ptdat/Desktop/venv/lib/python3.12/site-packages/selenium/webdriver/remote/webdriver.py\", line 1365, in get_screenshot_as_base64\n",
      "    return self.execute(Command.SCREENSHOT)['value']\n",
      "           ^^^^^^^^^^^^^^^^^^^^^^^^^^^^^^^^\n",
      "  File \"/home/ptdat/Desktop/venv/lib/python3.12/site-packages/selenium/webdriver/remote/webdriver.py\", line 422, in execute\n",
      "    response = self.command_executor.execute(driver_command, params)\n",
      "               ^^^^^^^^^^^^^^^^^^^^^^^^^^^^^^^^^^^^^^^^^^^^^^^^^^^^^\n",
      "  File \"/home/ptdat/Desktop/venv/lib/python3.12/site-packages/selenium/webdriver/remote/remote_connection.py\", line 421, in execute\n",
      "    return self._request(command_info[0], url, body=data)\n",
      "           ^^^^^^^^^^^^^^^^^^^^^^^^^^^^^^^^^^^^^^^^^^^^^^\n",
      "  File \"/home/ptdat/Desktop/venv/lib/python3.12/site-packages/selenium/webdriver/remote/remote_connection.py\", line 443, in _request\n",
      "    resp = self._conn.request(method, url, body=body, headers=headers)\n",
      "           ^^^^^^^^^^^^^^^^^^^^^^^^^^^^^^^^^^^^^^^^^^^^^^^^^^^^^^^^^^^\n",
      "  File \"/home/ptdat/Desktop/venv/lib/python3.12/site-packages/urllib3/request.py\", line 77, in request\n",
      "    return self.request_encode_url(\n",
      "           ^^^^^^^^^^^^^^^^^^^^^^^^\n",
      "  File \"/home/ptdat/Desktop/venv/lib/python3.12/site-packages/urllib3/request.py\", line 99, in request_encode_url\n",
      "    return self.urlopen(method, url, **extra_kw)\n",
      "           ^^^^^^^^^^^^^^^^^^^^^^^^^^^^^^^^^^^^^\n",
      "  File \"/home/ptdat/Desktop/venv/lib/python3.12/site-packages/urllib3/poolmanager.py\", line 376, in urlopen\n",
      "    response = conn.urlopen(method, u.request_uri, **kw)\n",
      "               ^^^^^^^^^^^^^^^^^^^^^^^^^^^^^^^^^^^^^^^^^\n",
      "  File \"/home/ptdat/Desktop/venv/lib/python3.12/site-packages/urllib3/connectionpool.py\", line 827, in urlopen\n",
      "    return self.urlopen(\n",
      "           ^^^^^^^^^^^^^\n",
      "  File \"/home/ptdat/Desktop/venv/lib/python3.12/site-packages/urllib3/connectionpool.py\", line 827, in urlopen\n",
      "    return^C\n"
     ]
    }
   ],
   "source": [
    "!python main.py \\\n",
    "    --chromedriver=/home/ptdat/Downloads/chromedriver-linux64/chromedriver \\\n",
    "    --crawler=page_crawler \\\n",
    "    --user=user1 \\\n",
    "    --crawler-dir=./data/ \\\n",
    "    --sleep-weibull-lambda=10 \\\n",
    "    --max-loading-wait=90 \\\n",
    "    --cookies-dir=./cookies/ \\\n",
    "    --secrets-json=./secrets.json \\\n",
    "    --error-screenshot-dir=./error-screenshots/ \\\n",
    "    --max-error-trials=0 \\\n",
    "    # --headless # To run in background"
   ]
  },
  {
   "cell_type": "markdown",
   "metadata": {},
   "source": [
    "### Trong trường hợp Facebook yêu cầu đăng nhập lại\n",
    "\n",
    "Chạy cell code dưới đây, một cửa sổ Chrome sẽ hiện ra. Hãy đăng nhập Facebook bằng cửa sổ Chrome này."
   ]
  },
  {
   "cell_type": "code",
   "execution_count": null,
   "metadata": {},
   "outputs": [
    {
     "data": {
      "text/plain": [
       "{'video_url': 'https://scontent.fsgn5-5.fna.fbcdn.net/o1/v/t2/f2/m69/AQOsdcZ4o14N3ZK-Ra_QQEXnisq9LGZ7bIAaNykflJ5sSyYu4lTc2vfOml6Y8qWRzIbbsPYrKAeLKU3D90cux7oF.mp4?strext=1&_nc_cat=100&_nc_oc=Adh4NTxgg7-oAxaWQKq0dRRYImwJ2C7-dDemV5px-PCb-8ZmIq81m9vzQMAeW7BGeb3gEB4h0DISHN3ta2EHIkjt&_nc_sid=9ca052&_nc_ht=scontent.fsgn5-5.fna.fbcdn.net&_nc_ohc=SoZJtl1TbnkQ7kNvgGyvGTU&efg=eyJ2ZW5jb2RlX3RhZyI6ImRhc2hfdnA5LWJhc2ljLWdlbjJfNTQwcCIsInZpZGVvX2lkIjoxNzA4MTk4MjYzMzg2ODEzLCJjbGllbnRfbmFtZSI6InVua25vd24iLCJvaWxfdXJsZ2VuX2FwcF9pZCI6MCwidXJsZ2VuX3NvdXJjZSI6Ind3dyJ9&ccb=17-1&_nc_zt=28&oh=00_AYFdohbfY-ORcyvZl-wV5rBV7c48qVg5-zzAAelHoCGdrw&oe=67DAD706',\n",
       " 'audio_url': 'https://scontent.fsgn5-15.fna.fbcdn.net/o1/v/t2/f2/m69/AQMU1G5A6cboDL-mtrkzKPH621h3WADckdqHgqueFtbnkY76GQ2deFwTtqDRF6erEZ48JzGut7hD04eSyvOlPich.mp4?strext=1&_nc_cat=1&_nc_oc=Adh6-qiaoi5hGLXIQ41ZUFlxOeUTm_BWVAOQf4lsujAxsfF6PogHAFUgWNrs15pLOinqxXjW3IcSHlkJgFHnheti&_nc_sid=9ca052&_nc_ht=scontent.fsgn5-15.fna.fbcdn.net&_nc_ohc=L7Nu8nR_uZkQ7kNvgFfOp4d&efg=eyJ2ZW5jb2RlX3RhZyI6ImRhc2hfbG5faGVhYWNfdmJyM19hdWRpbyIsInZpZGVvX2lkIjo4NDkyNjA5MDg0MTIxOTI3LCJjbGllbnRfbmFtZSI6InVua25vd24iLCJvaWxfdXJsZ2VuX2FwcF9pZCI6MCwidXJsZ2VuX3NvdXJjZSI6Ind3dyJ9&ccb=17-1&_nc_zt=28&oh=00_AYGkbIQpSivU3ZtvqFgqt4GC_BNoGcwgGEQhRSFhQ_zo7w&oe=67DACAC9'}"
      ]
     },
     "execution_count": 1,
     "metadata": {},
     "output_type": "execute_result"
    }
   ],
   "source": [
    "from selenium import webdriver\n",
    "from selenium.webdriver.chrome.service import Service\n",
    "from utils.cookies import Cookies\n",
    "from utils.parsing import get_video_url_from_source\n",
    "\n",
    "driver_service = Service(\"/home/ptdat/Downloads/chromedriver-linux64/chromedriver\")\n",
    "driver_options = webdriver.ChromeOptions()\n",
    "driver_options.add_argument(\"--blink-settings=imagesEnabled=false\")\n",
    "driver_options.add_argument(\"--disable-notifications\")\n",
    "driver_options.add_argument(\"disable-infobars\")\n",
    "# driver_options.add_argument(\"--incognito\")\n",
    "cookies = Cookies(\"user1\")\n",
    "\n",
    "chrome = webdriver.Chrome(service=driver_service, options=driver_options)\n",
    "chrome.get(\"https://facebook.com\")"
   ]
  },
  {
   "cell_type": "markdown",
   "metadata": {},
   "source": [
    "Sau khi hoàn thành đăng nhập (truy cập được news feed của tài khoản Facebook). Hãy chạy cell dưới đây để lưu cookies và giữ phiên đăng nhập cho những lần sau."
   ]
  },
  {
   "cell_type": "code",
   "execution_count": null,
   "metadata": {},
   "outputs": [],
   "source": [
    "cookies.save(chrome.get_cookies())"
   ]
  },
  {
   "cell_type": "markdown",
   "metadata": {},
   "source": [
    "Tại bước này có thể tắt cửa sổ Chrome đi được rùi."
   ]
  }
 ],
 "metadata": {
  "kernelspec": {
   "display_name": "venv",
   "language": "python",
   "name": "python3"
  },
  "language_info": {
   "codemirror_mode": {
    "name": "ipython",
    "version": 3
   },
   "file_extension": ".py",
   "mimetype": "text/x-python",
   "name": "python",
   "nbconvert_exporter": "python",
   "pygments_lexer": "ipython3",
   "version": "3.12.3"
  }
 },
 "nbformat": 4,
 "nbformat_minor": 2
}
