{
 "cells": [
  {
   "cell_type": "markdown",
   "metadata": {},
   "source": [
    "### **Chú ý:** Thiết lập những cài đặt Facebook sau để tránh bị lỗi\n",
    "\n",
    "1. Tắt chức năng tự động phát video.\n",
    "2. Tắt chức năng tự động dịch từ tiếng Việt."
   ]
  },
  {
   "cell_type": "code",
   "execution_count": null,
   "metadata": {},
   "outputs": [],
   "source": [
    "import pandas as pd\n",
    "import json\n",
    "\n",
    "page_id = \"nganhangbanviet\"\n",
    "df = pd.read_csv(f\"data/{page_id}/data.csv\")\n",
    "d = dict([(id, url) for id, url in df[[\"post_id\", \"post_url\"]].values])\n",
    "with open(f\"data/{page_id}/remaining_posts.json\", \"w+\") as f:\n",
    "    json.dump(d, f, indent=2)"
   ]
  },
  {
   "cell_type": "code",
   "execution_count": 2,
   "metadata": {},
   "outputs": [
    {
     "name": "stdout",
     "output_type": "stream",
     "text": [
      "[\u001b[32;20mPage Crawler\u001b[0m][\u001b[34;20mINFO\u001b[0m][\u001b[35;20m03-04 08:03:26\u001b[0m]: Initializing...\n",
      "[\u001b[32;20mPage Crawler\u001b[0m][\u001b[34;20mINFO\u001b[0m][\u001b[35;20m03-04 08:03:27\u001b[0m]: Driver started\n",
      "[\u001b[32;20mPage Crawler\u001b[0m][\u001b[34;20mINFO\u001b[0m][\u001b[35;20m03-04 08:03:27\u001b[0m]: JavaScript VM has 6.91GB of memory space (extra 2.91GB).\n",
      "[\u001b[32;20mPage Crawler\u001b[0m][\u001b[34;20mINFO\u001b[0m][\u001b[35;20m03-04 08:03:27\u001b[0m]: Ensuring user logging in\n",
      "[\u001b[32;20mPage Crawler\u001b[0m][\u001b[34;20mINFO\u001b[0m][\u001b[35;20m03-04 08:03:27\u001b[0m]: Found user's credentials cached as cookies\n",
      "[\u001b[32;20mPage Crawler\u001b[0m][\u001b[34;20mINFO\u001b[0m][\u001b[35;20m03-04 08:03:28\u001b[0m]: Saved/Refreshed cookies\n",
      "[\u001b[32;20mPage Crawler\u001b[0m][\u001b[34;20mINFO\u001b[0m][\u001b[35;20m03-04 08:03:28\u001b[0m]: Matched as URL for \u001b[;1mnavigation\u001b[0m: \u001b[37mhttps://www.facebook.com/SeABankOfficialFanpage\u001b[0m\n",
      "[\u001b[32;20mPage Crawler\u001b[0m][\u001b[34;20mINFO\u001b[0m][\u001b[35;20m03-04 08:03:31\u001b[0m]: Enqueuing 0 new navigation URLs\n",
      "[\u001b[32;20mPage Crawler\u001b[0m][\u001b[34;20mINFO\u001b[0m][\u001b[35;20m03-04 08:03:31\u001b[0m]: Selectively enqueuing 0 new parsing URLs\n",
      "[\u001b[32;20mPage Crawler\u001b[0m][\u001b[34;20mINFO\u001b[0m][\u001b[35;20m03-04 08:03:31\u001b[0m]: Matched as URL for \u001b[;1mparsing\u001b[0m: \u001b[37mhttps://www.facebook.com/SeABankOfficialFanpage\u001b[0m\n",
      "[\u001b[32;20mPage Crawler\u001b[0m][\u001b[34;20mINFO\u001b[0m][\u001b[35;20m03-04 08:03:34\u001b[0m]: Opened new tab to \u001b[37mhttps://www.facebook.com/SeABankOfficialFanpage\u001b[0m\n",
      "[\u001b[32;20mPage Crawler\u001b[0m][\u001b[34;20mINFO\u001b[0m][\u001b[35;20m03-04 08:03:36\u001b[0m]: Found post URLs previously saved\n",
      "[\u001b[32;20mPage Crawler\u001b[0m][\u001b[34;20mINFO\u001b[0m][\u001b[35;20m03-04 08:03:36\u001b[0m]: Begin to collect comments from 3 posts.\n",
      "Collecting Comments: 100%|██████████████████████| 3/3 [03:58<00:00, 79.38s/post]\n",
      "[\u001b[32;20mPage Crawler\u001b[0m][\u001b[34;20mINFO\u001b[0m][\u001b[35;20m03-04 08:07:43\u001b[0m]: Closing driver due to no URL left in queue...\n"
     ]
    }
   ],
   "source": [
    "!python main.py \\\n",
    "    --chromedriver=/home/ptdat/Downloads/chromedriver-linux64/chromedriver \\\n",
    "    --crawler=bank_crawler \\\n",
    "    --user=user1 \\\n",
    "    --crawler-dir=./data/ \\\n",
    "    --sleep-weibull-lambda=10 \\\n",
    "    --max-loading-wait=90 \\\n",
    "    --cookies-dir=./cookies/ \\\n",
    "    --secrets-json=./secrets.json \\\n",
    "    --error-screenshot-dir=./error-screenshots/ \\\n",
    "    --max-error-trials=0 \\\n",
    "\t--additional-js-heap=2\n",
    "    # --headless # To run in background"
   ]
  },
  {
   "cell_type": "markdown",
   "metadata": {},
   "source": [
    "\n",
    "### Trong trường hợp Facebook yêu cầu đăng nhập lại\n",
    "\n",
    "Chạy cell code dưới đây, một cửa sổ Chrome sẽ hiện ra. Hãy đăng nhập Facebook bằng cửa sổ Chrome này."
   ]
  },
  {
   "cell_type": "code",
   "execution_count": 44,
   "metadata": {},
   "outputs": [],
   "source": [
    "from selenium import webdriver\n",
    "from selenium.webdriver.chrome.service import Service\n",
    "from utils.cookies import Cookies\n",
    "\n",
    "driver_service = Service(\"/home/ptdat/Downloads/chromedriver-linux64/chromedriver\")\n",
    "driver_options = webdriver.ChromeOptions()\n",
    "# driver_options.add_argument(\"--blink-settings=imagesEnabled=false\")\n",
    "driver_options.add_argument(\"--disable-notifications\")\n",
    "driver_options.add_argument(\"disable-infobars\")\n",
    "driver_options.add_argument(\"--js-flags=--expose-gc\")\n",
    "driver_options.add_argument('--js-flags=\"--max_old_space_size=512 --max_semi_space_size=1397\"')\n",
    "# driver_options.add_argument(\"--incognito\")\n",
    "cookies = Cookies(\"user1\")\n",
    "\n",
    "chrome = webdriver.Chrome(service=driver_service, options=driver_options)\n",
    "chrome.get(\"https://facebook.com\")\n",
    "for cookie in cookies.load():\n",
    "    chrome.add_cookie(cookie)"
   ]
  },
  {
   "cell_type": "markdown",
   "metadata": {},
   "source": [
    "Sau khi hoàn thành đăng nhập (truy cập được news feed của tài khoản Facebook). Hãy chạy cell dưới đây để lưu cookies và giữ phiên đăng nhập cho những lần sau."
   ]
  },
  {
   "cell_type": "code",
   "execution_count": 46,
   "metadata": {},
   "outputs": [],
   "source": [
    "cookies.save(chrome.get_cookies())"
   ]
  },
  {
   "cell_type": "markdown",
   "metadata": {},
   "source": [
    "Tại bước này có thể tắt cửa sổ Chrome đi được rùi."
   ]
  }
 ],
 "metadata": {
  "kernelspec": {
   "display_name": "venv",
   "language": "python",
   "name": "python3"
  },
  "language_info": {
   "codemirror_mode": {
    "name": "ipython",
    "version": 3
   },
   "file_extension": ".py",
   "mimetype": "text/x-python",
   "name": "python",
   "nbconvert_exporter": "python",
   "pygments_lexer": "ipython3",
   "version": "3.12.3"
  }
 },
 "nbformat": 4,
 "nbformat_minor": 2
}
