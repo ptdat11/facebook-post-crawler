{
 "cells": [
  {
   "cell_type": "markdown",
   "metadata": {},
   "source": [
    "### **Chú ý:** Thiết lập những cài đặt Facebook sau để tránh bị lỗi\n",
    "\n",
    "1. Tắt chức năng tự động phát video.\n",
    "2. Tắt chức năng tự động dịch từ tiếng Việt."
   ]
  },
  {
   "cell_type": "code",
   "execution_count": null,
   "metadata": {},
   "outputs": [
    {
     "name": "stdout",
     "output_type": "stream",
     "text": [
      "[\u001b[32;20mPage Crawler\u001b[0m][\u001b[34;20mINFO\u001b[0m][\u001b[35;20m05-04 14:36:46\u001b[0m]: Initializing...\n",
      "[\u001b[32;20mPage Crawler\u001b[0m][\u001b[34;20mINFO\u001b[0m][\u001b[35;20m05-04 14:36:48\u001b[0m]: Driver started\n",
      "[\u001b[32;20mPage Crawler\u001b[0m][\u001b[34;20mINFO\u001b[0m][\u001b[35;20m05-04 14:36:48\u001b[0m]: JavaScript VM has 6.91GB of memory space (extra 2.91GB).\n",
      "[\u001b[32;20mPage Crawler\u001b[0m][\u001b[34;20mINFO\u001b[0m][\u001b[35;20m05-04 14:36:48\u001b[0m]: Ensuring user logging in\n",
      "[\u001b[32;20mPage Crawler\u001b[0m][\u001b[34;20mINFO\u001b[0m][\u001b[35;20m05-04 14:36:48\u001b[0m]: Found user's credentials cached as cookies\n",
      "[\u001b[32;20mPage Crawler\u001b[0m][\u001b[34;20mINFO\u001b[0m][\u001b[35;20m05-04 14:36:49\u001b[0m]: Saved/Refreshed cookies\n",
      "[\u001b[32;20mPage Crawler\u001b[0m][\u001b[34;20mINFO\u001b[0m][\u001b[35;20m05-04 14:36:49\u001b[0m]: Matched as URL for \u001b[;1mnavigation\u001b[0m: \u001b[37mhttps://www.facebook.com/shynhpremiumhcm\u001b[0m\n",
      "[\u001b[32;20mPage Crawler\u001b[0m][\u001b[34;20mINFO\u001b[0m][\u001b[35;20m05-04 14:36:52\u001b[0m]: Enqueuing 0 new navigation URLs\n",
      "[\u001b[32;20mPage Crawler\u001b[0m][\u001b[34;20mINFO\u001b[0m][\u001b[35;20m05-04 14:36:52\u001b[0m]: Selectively enqueuing 0 new parsing URLs\n",
      "[\u001b[32;20mPage Crawler\u001b[0m][\u001b[34;20mINFO\u001b[0m][\u001b[35;20m05-04 14:36:52\u001b[0m]: Matched as URL for \u001b[;1mparsing\u001b[0m: \u001b[37mhttps://www.facebook.com/shynhpremiumhcm\u001b[0m\n",
      "[\u001b[32;20mPage Crawler\u001b[0m][\u001b[34;20mINFO\u001b[0m][\u001b[35;20m05-04 14:36:54\u001b[0m]: Opened new tab to \u001b[37mhttps://www.facebook.com/shynhpremiumhcm\u001b[0m\n",
      "[\u001b[32;20mPage Crawler\u001b[0m][\u001b[34;20mINFO\u001b[0m][\u001b[35;20m05-04 14:36:56\u001b[0m]: Found post URLs previously saved\n",
      "[\u001b[32;20mPage Crawler\u001b[0m][\u001b[34;20mINFO\u001b[0m][\u001b[35;20m05-04 14:36:56\u001b[0m]: Collecting visual content...\n",
      "Collecting Comments:   1%|▏                 | 4/407 [00:51<1:34:01, 14.00s/post]"
     ]
    }
   ],
   "source": [
    "!python main.py \\\n",
    "    --chromedriver=/home/ptdat/Downloads/chromedriver-linux64/chromedriver \\\n",
    "    --crawler=page_crawler \\\n",
    "    --user=user1 \\\n",
    "    --crawler-dir=./data/ \\\n",
    "    --sleep-weibull-lambda=10 \\\n",
    "    --max-loading-wait=90 \\\n",
    "    --cookies-dir=./cookies/ \\\n",
    "    --secrets-json=./secrets.json \\\n",
    "    --error-screenshot-dir=./error-screenshots/ \\\n",
    "    --max-error-trials=0 \\\n",
    "\t--additional-js-heap=2\n",
    "    # --headless # To run in background"
   ]
  },
  {
   "cell_type": "markdown",
   "metadata": {},
   "source": [
    "\n",
    "### Trong trường hợp Facebook yêu cầu đăng nhập lại\n",
    "\n",
    "Chạy cell code dưới đây, một cửa sổ Chrome sẽ hiện ra. Hãy đăng nhập Facebook bằng cửa sổ Chrome này."
   ]
  },
  {
   "cell_type": "code",
   "execution_count": 4,
   "metadata": {},
   "outputs": [],
   "source": [
    "from selenium import webdriver\n",
    "from selenium.webdriver.chrome.service import Service\n",
    "from utils.cookies import Cookies\n",
    "\n",
    "driver_service = Service(\"/home/ptdat/Downloads/chromedriver-linux64/chromedriver\")\n",
    "driver_options = webdriver.ChromeOptions()\n",
    "# driver_options.add_argument(\"--blink-settings=imagesEnabled=false\")\n",
    "driver_options.add_argument(\"--disable-notifications\")\n",
    "driver_options.add_argument(\"disable-infobars\")\n",
    "driver_options.add_argument(\"--js-flags=--expose-gc\")\n",
    "driver_options.add_argument('--js-flags=\"--max_old_space_size=512 --max_semi_space_size=1397\"')\n",
    "# driver_options.add_argument(\"--incognito\")\n",
    "cookies = Cookies(\"user1\")\n",
    "\n",
    "chrome = webdriver.Chrome(service=driver_service, options=driver_options)\n",
    "chrome.get(\"https://facebook.com\")\n",
    "for cookie in cookies.load():\n",
    "    chrome.add_cookie(cookie)"
   ]
  },
  {
   "cell_type": "markdown",
   "metadata": {},
   "source": [
    "Sau khi hoàn thành đăng nhập (truy cập được news feed của tài khoản Facebook). Hãy chạy cell dưới đây để lưu cookies và giữ phiên đăng nhập cho những lần sau."
   ]
  },
  {
   "cell_type": "code",
   "execution_count": 5,
   "metadata": {},
   "outputs": [],
   "source": [
    "cookies.save(chrome.get_cookies())"
   ]
  },
  {
   "cell_type": "markdown",
   "metadata": {},
   "source": [
    "Tại bước này có thể tắt cửa sổ Chrome đi được rùi."
   ]
  }
 ],
 "metadata": {
  "kernelspec": {
   "display_name": "venv",
   "language": "python",
   "name": "python3"
  },
  "language_info": {
   "codemirror_mode": {
    "name": "ipython",
    "version": 3
   },
   "file_extension": ".py",
   "mimetype": "text/x-python",
   "name": "python",
   "nbconvert_exporter": "python",
   "pygments_lexer": "ipython3",
   "version": "3.12.3"
  }
 },
 "nbformat": 4,
 "nbformat_minor": 2
}
